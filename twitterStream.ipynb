{
 "cells": [
  {
   "cell_type": "code",
   "execution_count": null,
   "metadata": {},
   "outputs": [],
   "source": [
    "import tweepy\n",
    "from tweepy import OAuthHandler,Stream\n",
    "from tweepy.streaming import StreamListener\n",
    "import socket,json"
   ]
  },
  {
   "cell_type": "code",
   "execution_count": null,
   "metadata": {},
   "outputs": [],
   "source": [
    "consumer_key = 'hqzcXRnqj5AoYr4MvTF9dbeYU' \n",
    "consumer_secret = 'jlTXxVjt3Nc0tA9fDtkwpIwoFXjXzeF4AQtGEDgni8nCy2mNES' \n",
    "access_token = '973076672231587840-Dh6SZrWFo0HcSAC82nNdXieL8ZKwF3R'\n",
    "access_secret = 'pVaaWWUYZPrmOatlgAmnQTb26o1WXaQKHBJsOTZzZ94ax'"
   ]
  },
  {
   "cell_type": "code",
   "execution_count": null,
   "metadata": {},
   "outputs": [],
   "source": [
    "class TweetListener (StreamListener):\n",
    "    def __init__(self,csocket):\n",
    "        self.client_socket = csocket\n",
    "        \n",
    "    def on_data(self,data):\n",
    "        try:\n",
    "            msg = json.load(data)\n",
    "            print(msg['text'].encode('utf-8'))\n",
    "            self.client_socket.send(msg['text'].encode('utf-8'))\n",
    "            return True\n",
    "        except BaseException as e:\n",
    "            print ('Error:- ',e)\n",
    "        return True\n",
    "    \n",
    "    def on_error(self,status):\n",
    "        print(status)\n",
    "        return True"
   ]
  },
  {
   "cell_type": "code",
   "execution_count": null,
   "metadata": {},
   "outputs": [],
   "source": [
    "def send_data(c_socket):\n",
    "    auth = OAuthHandler (consumer_key,consumer_secret)\n",
    "    auth.set_access_token (access_token,access_secret)\n",
    "    \n",
    "    twitter_stream = Stream(auth,TweetListener(c_socket))\n",
    "    twitter_stream.filter(track=['pubg'])"
   ]
  },
  {
   "cell_type": "code",
   "execution_count": null,
   "metadata": {},
   "outputs": [],
   "source": [
    "if __name__== \"__main__\":\n",
    "    s=socket.socket()\n",
    "    host = '127.0.0.1'\n",
    "    port = 5555\n",
    "    s.bind ((host,port))\n",
    "    \n",
    "    print (\"Listening to port 5555...\")\n",
    "    s.listen(5)\n",
    "    c,addr = s.accept()\n",
    "    \n",
    "    send_data(c)"
   ]
  },
  {
   "cell_type": "code",
   "execution_count": null,
   "metadata": {},
   "outputs": [],
   "source": []
  }
 ],
 "metadata": {
  "kernelspec": {
   "display_name": "Python 3",
   "language": "python",
   "name": "python3"
  },
  "language_info": {
   "codemirror_mode": {
    "name": "ipython",
    "version": 3
   },
   "file_extension": ".py",
   "mimetype": "text/x-python",
   "name": "python",
   "nbconvert_exporter": "python",
   "pygments_lexer": "ipython3",
   "version": "3.4.8"
  }
 },
 "nbformat": 4,
 "nbformat_minor": 2
}
